{
 "cells": [
  {
   "cell_type": "code",
   "execution_count": 1,
   "id": "79aab1bf-3da6-4e7b-8db7-dabcced126f9",
   "metadata": {},
   "outputs": [],
   "source": [
    "import pandas as pd\n",
    "import requests\n",
    "import time"
   ]
  },
  {
   "cell_type": "code",
   "execution_count": null,
   "id": "38a10787-b34d-4d04-905b-eb4ecc5940ef",
   "metadata": {},
   "outputs": [],
   "source": [
    "trees = pd.read_csv('../data/bk_trees_2015.csv')\n",
    "trees.drop(columns='Unnamed: 0', inplace=True)"
   ]
  },
  {
   "cell_type": "markdown",
   "id": "ffb280b5-c33a-43f4-9fc0-64a8e7fd9c78",
   "metadata": {},
   "source": [
    "### Code for getting census blocks from API \n",
    "\n",
    "https://geo.fcc.gov/api/census/#!/area/get_area"
   ]
  },
  {
   "cell_type": "code",
   "execution_count": 20,
   "id": "5cabbc18-626f-48cf-8fd9-ab682adbd409",
   "metadata": {},
   "outputs": [],
   "source": [
    "params = {\n",
    "    'latitude':  trees15_bk.loc[1, 'latitude'],\n",
    "    'longitude':  trees15_bk.loc[1, 'longitude']\n",
    "}\n",
    "\n",
    "url = f\"https://geo.fcc.gov/api/census/block/find?latitude={params['latitude']}&longitude={params['longitude']}&censusYear=2010&showall=true&format=json\"\n"
   ]
  },
  {
   "cell_type": "code",
   "execution_count": 23,
   "id": "ead8c6c6-e10d-4250-a20a-7d96aa062b37",
   "metadata": {},
   "outputs": [],
   "source": [
    "res = requests.get(url)"
   ]
  },
  {
   "cell_type": "code",
   "execution_count": 24,
   "id": "d94f57e6-edde-4e39-a735-32d1e1201a4a",
   "metadata": {},
   "outputs": [
    {
     "data": {
      "text/plain": [
       "200"
      ]
     },
     "execution_count": 24,
     "metadata": {},
     "output_type": "execute_result"
    }
   ],
   "source": [
    "res.status_code"
   ]
  },
  {
   "cell_type": "code",
   "execution_count": 25,
   "id": "1398642b-585c-4798-a076-3b25e30bded3",
   "metadata": {},
   "outputs": [
    {
     "data": {
      "text/plain": [
       "'360470449004045'"
      ]
     },
     "execution_count": 25,
     "metadata": {},
     "output_type": "execute_result"
    }
   ],
   "source": [
    "fips = res.json()['Block']['FIPS']\n",
    "fips"
   ]
  },
  {
   "cell_type": "code",
   "execution_count": 27,
   "id": "882160d7-277a-4cfc-96a5-e1f1da7440b4",
   "metadata": {},
   "outputs": [],
   "source": [
    "def get_block(lat, long):\n",
    "    params = {'latitude': lat, 'longitude': long}\n",
    "    url = f\"https://geo.fcc.gov/api/census/block/find?latitude={params['latitude']}&longitude={params['longitude']}&censusYear=2010&showall=true&format=json\"\n",
    " #   for i in range(5):\n",
    " #       try:\n",
    "    res = requests.get(url)\n",
    "       # except:\n",
    "       #     continue\n",
    "    #print(res.status_code)\n",
    "    time.sleep(3)\n",
    "    return res.json()['Block']['FIPS']\n",
    "\n",
    "# put try except\n",
    "\n",
    "# https://stackoverflow.com/questions/19914937/applying-function-with-multiple-arguments-to-create-a-new-pandas-column"
   ]
  },
  {
   "cell_type": "code",
   "execution_count": 7,
   "id": "b9709678-13d7-4af8-9814-0011dc388a18",
   "metadata": {
    "jupyter": {
     "source_hidden": true
    },
    "tags": []
   },
   "outputs": [],
   "source": [
    "#trees15_bk['census_block'] = trees15_bk.apply(lambda x: get_block(x['latitude'], x['longitude']), axis=1)"
   ]
  }
 ],
 "metadata": {
  "kernelspec": {
   "display_name": "Python 3 (ipykernel)",
   "language": "python",
   "name": "python3"
  },
  "language_info": {
   "codemirror_mode": {
    "name": "ipython",
    "version": 3
   },
   "file_extension": ".py",
   "mimetype": "text/x-python",
   "name": "python",
   "nbconvert_exporter": "python",
   "pygments_lexer": "ipython3",
   "version": "3.9.7"
  }
 },
 "nbformat": 4,
 "nbformat_minor": 5
}
